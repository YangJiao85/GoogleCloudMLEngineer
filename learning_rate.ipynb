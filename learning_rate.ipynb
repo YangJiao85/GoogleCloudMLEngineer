{
 "cells": [
  {
   "cell_type": "markdown",
   "metadata": {
    "colab_type": "text",
    "id": "rNdWfPXCjTjY"
   },
   "source": [
    "# Reviewing Learning Curve\n",
    "\n",
    "### Learning objectives\n",
    "\n",
    "1. Build and train a Keras Sequential model\n",
    "2. Specify various learning rates to a model\n",
    "3. Visualize the loss curves\n",
    "\n",
    "\n",
    "## Introduction \n",
    "\n",
    "\n",
    "In this notebook, you will observe learning curve change. You will use the Keras Sequential Model to build an ML model to predict housing prices.\n",
    "\n",
    "A learning curve is a plot of model learning performance over experience or time.\n",
    "\n",
    "Learning curves are a widely used diagnostic tool in machine learning for algorithms that learn from a training dataset incrementally. The model can be evaluated on the training dataset and on a hold out validation dataset after each update during training and plots of the measured performance can created to show learning curves. Reviewing learning curves of models during training can be used to diagnose problems with learning, such as an underfit or overfit model, as well as whether the training and validation datasets are suitably representative.\n",
    "\n",
    "Adam is an optimization algorithm that can be used instead of the classical stochastic gradient descent procedure to update network weights iterative based in training data. [How to use Learning Curves to Diagnose Machine Learning Model Performance](https://machinelearningmastery.com/learning-curves-for-diagnosing-machine-learning-model-performance/#:~:text=A%20learning%20curve%20is%20a,from%20a%20training%20dataset%20incrementally.&text=Learning%20curves%20are%20plots%20that,time%20in%20terms%20of%20experience).\n",
    "\n",
    "Each learning objective will correspond to a __#TODO__  in this student lab notebook -- try to complete this notebook first and then review the [solution notebook](https://github.com/GoogleCloudPlatform/training-data-analyst/blob/master/courses/machine_learning/deepdive2/art_and_science_of_ml/solutions/learning_rate.ipynb)\n"
   ]
  },
  {
   "cell_type": "markdown",
   "metadata": {
    "colab_type": "text",
    "id": "VxyBFc_kKazA"
   },
   "source": [
    "Start by importing the necessary libraries for this lab."
   ]
  },
  {
   "cell_type": "code",
   "execution_count": 1,
   "metadata": {},
   "outputs": [],
   "source": [
    "!sudo chown -R jupyter:jupyter /home/jupyter/training-data-analyst"
   ]
  },
  {
   "cell_type": "code",
   "execution_count": 3,
   "metadata": {},
   "outputs": [],
   "source": [
    "# Install Sklearn\n",
    "!python3 -m pip install -q --user sklearn"
   ]
  },
  {
   "cell_type": "code",
   "execution_count": 4,
   "metadata": {
    "colab": {},
    "colab_type": "code",
    "id": "9dEreb4QKizj"
   },
   "outputs": [
    {
     "name": "stderr",
     "output_type": "stream",
     "text": [
      "Using TensorFlow backend.\n"
     ]
    },
    {
     "name": "stdout",
     "output_type": "stream",
     "text": [
      "TensorFlow version:  2.3.4\n"
     ]
    }
   ],
   "source": [
    "import os\n",
    "import tensorflow.keras\n",
    "\n",
    "import matplotlib.pyplot as plt\n",
    "import pandas as pd\n",
    "import tensorflow as tf\n",
    "\n",
    "from tensorflow import feature_column as fc\n",
    "from tensorflow.keras import layers\n",
    "from tensorflow import keras\n",
    "from tensorflow.keras import layers\n",
    "from keras.optimizers import Adam\n",
    "#from keras.optimizers import SGD\n",
    "\n",
    "from sklearn.model_selection import train_test_split\n",
    "from keras.utils import plot_model\n",
    "\n",
    "print(\"TensorFlow version: \",tf.version.VERSION)"
   ]
  },
  {
   "cell_type": "markdown",
   "metadata": {},
   "source": [
    "Many of the Google Machine Learning Courses Programming Exercises use the  [California Housing Dataset](https://developers.google.com/machine-learning/crash-course/california-housing-data-description\n",
    "), which contains data drawn from the 1990 U.S. Census.  Our lab dataset has been pre-processed so that there are no missing values.\n",
    "\n",
    "First, let's download the raw .csv data by copying the data from a cloud storage bucket.\n"
   ]
  },
  {
   "cell_type": "code",
   "execution_count": 5,
   "metadata": {},
   "outputs": [],
   "source": [
    "if not os.path.isdir(\"../data\"):\n",
    "    os.makedirs(\"../data\")"
   ]
  },
  {
   "cell_type": "code",
   "execution_count": 6,
   "metadata": {},
   "outputs": [
    {
     "name": "stdout",
     "output_type": "stream",
     "text": [
      "Copying gs://cloud-training-demos/feat_eng/housing/housing_pre-proc.csv...\n",
      "/ [1 files][  1.4 MiB/  1.4 MiB]                                                \n",
      "Operation completed over 1 objects/1.4 MiB.                                      \n"
     ]
    }
   ],
   "source": [
    "!gsutil cp gs://cloud-training-demos/feat_eng/housing/housing_pre-proc.csv ../data"
   ]
  },
  {
   "cell_type": "markdown",
   "metadata": {
    "colab_type": "text",
    "id": "lM6-n6xntv3t"
   },
   "source": [
    "Now, let's read in the dataset just copied from the cloud storage bucket and create a Pandas dataframe."
   ]
  },
  {
   "cell_type": "code",
   "execution_count": 7,
   "metadata": {
    "colab": {
     "base_uri": "https://localhost:8080/",
     "height": 222
    },
    "colab_type": "code",
    "id": "REZ57BXCLdfG",
    "outputId": "a6ef2eda-c7eb-4e2d-92e4-e7fcaa20b0af"
   },
   "outputs": [
    {
     "name": "stderr",
     "output_type": "stream",
     "text": [
      "/opt/conda/lib/python3.7/site-packages/IPython/core/interactiveshell.py:3444: FutureWarning: The error_bad_lines argument has been deprecated and will be removed in a future version.\n",
      "\n",
      "\n",
      "  exec(code_obj, self.user_global_ns, self.user_ns)\n"
     ]
    },
    {
     "data": {
      "text/html": [
       "<div>\n",
       "<style scoped>\n",
       "    .dataframe tbody tr th:only-of-type {\n",
       "        vertical-align: middle;\n",
       "    }\n",
       "\n",
       "    .dataframe tbody tr th {\n",
       "        vertical-align: top;\n",
       "    }\n",
       "\n",
       "    .dataframe thead th {\n",
       "        text-align: right;\n",
       "    }\n",
       "</style>\n",
       "<table border=\"1\" class=\"dataframe\">\n",
       "  <thead>\n",
       "    <tr style=\"text-align: right;\">\n",
       "      <th></th>\n",
       "      <th>longitude</th>\n",
       "      <th>latitude</th>\n",
       "      <th>housing_median_age</th>\n",
       "      <th>total_rooms</th>\n",
       "      <th>total_bedrooms</th>\n",
       "      <th>population</th>\n",
       "      <th>households</th>\n",
       "      <th>median_income</th>\n",
       "      <th>median_house_value</th>\n",
       "      <th>ocean_proximity</th>\n",
       "    </tr>\n",
       "  </thead>\n",
       "  <tbody>\n",
       "    <tr>\n",
       "      <th>0</th>\n",
       "      <td>-122.23</td>\n",
       "      <td>37.88</td>\n",
       "      <td>41.0</td>\n",
       "      <td>880.0</td>\n",
       "      <td>129.0</td>\n",
       "      <td>322.0</td>\n",
       "      <td>126.0</td>\n",
       "      <td>8.3252</td>\n",
       "      <td>452600.0</td>\n",
       "      <td>NEAR BAY</td>\n",
       "    </tr>\n",
       "    <tr>\n",
       "      <th>1</th>\n",
       "      <td>-122.22</td>\n",
       "      <td>37.86</td>\n",
       "      <td>21.0</td>\n",
       "      <td>7099.0</td>\n",
       "      <td>1106.0</td>\n",
       "      <td>2401.0</td>\n",
       "      <td>1138.0</td>\n",
       "      <td>8.3014</td>\n",
       "      <td>358500.0</td>\n",
       "      <td>NEAR BAY</td>\n",
       "    </tr>\n",
       "    <tr>\n",
       "      <th>2</th>\n",
       "      <td>-122.24</td>\n",
       "      <td>37.85</td>\n",
       "      <td>52.0</td>\n",
       "      <td>1467.0</td>\n",
       "      <td>190.0</td>\n",
       "      <td>496.0</td>\n",
       "      <td>177.0</td>\n",
       "      <td>7.2574</td>\n",
       "      <td>352100.0</td>\n",
       "      <td>NEAR BAY</td>\n",
       "    </tr>\n",
       "    <tr>\n",
       "      <th>3</th>\n",
       "      <td>-122.25</td>\n",
       "      <td>37.85</td>\n",
       "      <td>52.0</td>\n",
       "      <td>1274.0</td>\n",
       "      <td>235.0</td>\n",
       "      <td>558.0</td>\n",
       "      <td>219.0</td>\n",
       "      <td>5.6431</td>\n",
       "      <td>341300.0</td>\n",
       "      <td>NEAR BAY</td>\n",
       "    </tr>\n",
       "    <tr>\n",
       "      <th>4</th>\n",
       "      <td>-122.25</td>\n",
       "      <td>37.85</td>\n",
       "      <td>52.0</td>\n",
       "      <td>1627.0</td>\n",
       "      <td>280.0</td>\n",
       "      <td>565.0</td>\n",
       "      <td>259.0</td>\n",
       "      <td>3.8462</td>\n",
       "      <td>342200.0</td>\n",
       "      <td>NEAR BAY</td>\n",
       "    </tr>\n",
       "  </tbody>\n",
       "</table>\n",
       "</div>"
      ],
      "text/plain": [
       "   longitude  latitude  housing_median_age  total_rooms  total_bedrooms  \\\n",
       "0    -122.23     37.88                41.0        880.0           129.0   \n",
       "1    -122.22     37.86                21.0       7099.0          1106.0   \n",
       "2    -122.24     37.85                52.0       1467.0           190.0   \n",
       "3    -122.25     37.85                52.0       1274.0           235.0   \n",
       "4    -122.25     37.85                52.0       1627.0           280.0   \n",
       "\n",
       "   population  households  median_income  median_house_value ocean_proximity  \n",
       "0       322.0       126.0         8.3252            452600.0        NEAR BAY  \n",
       "1      2401.0      1138.0         8.3014            358500.0        NEAR BAY  \n",
       "2       496.0       177.0         7.2574            352100.0        NEAR BAY  \n",
       "3       558.0       219.0         5.6431            341300.0        NEAR BAY  \n",
       "4       565.0       259.0         3.8462            342200.0        NEAR BAY  "
      ]
     },
     "execution_count": 7,
     "metadata": {},
     "output_type": "execute_result"
    }
   ],
   "source": [
    "housing_df = pd.read_csv('../data/housing_pre-proc.csv', error_bad_lines=False)\n",
    "housing_df.head()"
   ]
  },
  {
   "cell_type": "markdown",
   "metadata": {},
   "source": [
    "We can use .describe() to see some summary statistics for the numeric fields in our dataframe. Note, for example, the count row and corresponding columns. The count shows 20433.000000 for all feature columns. Thus, there are no missing values."
   ]
  },
  {
   "cell_type": "markdown",
   "metadata": {
    "colab_type": "text",
    "id": "u0zhLtQqMPem"
   },
   "source": [
    "####  Split the dataset for ML\n",
    "\n",
    "The dataset we loaded was a single CSV file. We will split this into train, validation, and test sets.\n"
   ]
  },
  {
   "cell_type": "code",
   "execution_count": 8,
   "metadata": {
    "colab": {
     "base_uri": "https://localhost:8080/",
     "height": 69
    },
    "colab_type": "code",
    "id": "YEOpw7LhMYsI",
    "outputId": "6161a660-7133-465a-d754-d7acae2b68c8"
   },
   "outputs": [
    {
     "name": "stdout",
     "output_type": "stream",
     "text": [
      "13076 train examples\n",
      "3270 validation examples\n",
      "4087 test examples\n"
     ]
    }
   ],
   "source": [
    "train, test = train_test_split(housing_df, test_size=0.2)\n",
    "train, val = train_test_split(train, test_size=0.2)\n",
    "\n",
    "print(len(train), 'train examples')\n",
    "print(len(val), 'validation examples')\n",
    "print(len(test), 'test examples')\n",
    "\n",
    "train.to_csv('../data/housing-train.csv', encoding='utf-8', index=False)\n",
    "val.to_csv('../data/housing-val.csv', encoding='utf-8', index=False)\n",
    "test.to_csv('../data/housing-test.csv', encoding='utf-8', index=False)"
   ]
  },
  {
   "cell_type": "code",
   "execution_count": 9,
   "metadata": {},
   "outputs": [
    {
     "name": "stderr",
     "output_type": "stream",
     "text": [
      "2021-11-09 13:31:12.097366: I tensorflow/core/platform/profile_utils/cpu_utils.cc:104] CPU Frequency: 2299995000 Hz\n",
      "2021-11-09 13:31:12.098519: I tensorflow/compiler/xla/service/service.cc:168] XLA service 0x55a0532de0a0 initialized for platform Host (this does not guarantee that XLA will be used). Devices:\n",
      "2021-11-09 13:31:12.098565: I tensorflow/compiler/xla/service/service.cc:176]   StreamExecutor device (0): Host, Default Version\n",
      "2021-11-09 13:31:12.100926: I tensorflow/core/common_runtime/process_util.cc:146] Creating new thread pool with default inter op setting: 2. Tune using inter_op_parallelism_threads for best performance.\n"
     ]
    }
   ],
   "source": [
    "# A utility method to create a tf.data dataset from a Pandas Dataframe\n",
    "\n",
    "def df_to_dataset(dataframe, shuffle=True, batch_size=32):\n",
    "    dataframe = dataframe.copy()\n",
    "    labels = dataframe.pop('median_house_value')\n",
    "    ds = tf.data.Dataset.from_tensor_slices((dict(dataframe), labels))\n",
    "    if shuffle:\n",
    "        ds = ds.shuffle(buffer_size=len(dataframe))\n",
    "    ds = ds.batch(batch_size)\n",
    "    return ds\n",
    "\n",
    "# Next we initialize the training and validation datasets.\n",
    "batch_size = 32\n",
    "train_ds = df_to_dataset(train)\n",
    "val_ds = df_to_dataset(val, shuffle=False, batch_size=batch_size)\n",
    "\n",
    "# Input Pipeline\n",
    "numeric_cols = ['longitude', 'latitude', 'housing_median_age', 'total_rooms',\n",
    "                'total_bedrooms', 'population', 'households', 'median_income']\n",
    "\n",
    "# Next, we scale the numerical feature columns that we assigned to the variable \"numeric cols\".\n",
    "# Scalar def get_scal(feature):\n",
    "def get_scal(feature):\n",
    "    def minmax(x):\n",
    "        mini = train[feature].min()\n",
    "        maxi = train[feature].max()\n",
    "        return (x - mini)/(maxi-mini)\n",
    "        return(minmax)\n",
    "    \n",
    "feature_columns = []\n",
    "for header in numeric_cols:\n",
    "    scal_input_fn = get_scal(header)\n",
    "    feature_columns.append(fc.numeric_column(header,\n",
    "                                             normalizer_fn=scal_input_fn))\n"
   ]
  },
  {
   "cell_type": "markdown",
   "metadata": {
    "colab_type": "text",
    "id": "9Ug3hB8Sl0jO"
   },
   "source": [
    "### Using the Keras Sequential Model\n",
    "\n",
    "Next, we will run this cell to compile and fit the Keras Sequential model."
   ]
  },
  {
   "cell_type": "markdown",
   "metadata": {},
   "source": [
    "**Lab Task #1:** Building the model"
   ]
  },
  {
   "cell_type": "markdown",
   "metadata": {},
   "source": [
    "## Model 1 - hard coding the learning rate to .5"
   ]
  },
  {
   "cell_type": "markdown",
   "metadata": {},
   "source": [
    "**Lab Task #2:** Specify various learning rates to model"
   ]
  },
  {
   "cell_type": "code",
   "execution_count": 11,
   "metadata": {},
   "outputs": [
    {
     "name": "stdout",
     "output_type": "stream",
     "text": [
      "Epoch 1/32\n",
      "WARNING:tensorflow:Layers in a Sequential model should only have a single input tensor, but we receive a <class 'dict'> input: {'longitude': <tf.Tensor 'ExpandDims_3:0' shape=(None, 1) dtype=float64>, 'latitude': <tf.Tensor 'ExpandDims_2:0' shape=(None, 1) dtype=float64>, 'housing_median_age': <tf.Tensor 'ExpandDims_1:0' shape=(None, 1) dtype=float64>, 'total_rooms': <tf.Tensor 'ExpandDims_8:0' shape=(None, 1) dtype=float64>, 'total_bedrooms': <tf.Tensor 'ExpandDims_7:0' shape=(None, 1) dtype=float64>, 'population': <tf.Tensor 'ExpandDims_6:0' shape=(None, 1) dtype=float64>, 'households': <tf.Tensor 'ExpandDims:0' shape=(None, 1) dtype=float64>, 'median_income': <tf.Tensor 'ExpandDims_4:0' shape=(None, 1) dtype=float64>, 'ocean_proximity': <tf.Tensor 'ExpandDims_5:0' shape=(None, 1) dtype=string>}\n",
      "Consider rewriting this model with the Functional API.\n",
      "WARNING:tensorflow:Layers in a Sequential model should only have a single input tensor, but we receive a <class 'dict'> input: {'longitude': <tf.Tensor 'ExpandDims_3:0' shape=(None, 1) dtype=float64>, 'latitude': <tf.Tensor 'ExpandDims_2:0' shape=(None, 1) dtype=float64>, 'housing_median_age': <tf.Tensor 'ExpandDims_1:0' shape=(None, 1) dtype=float64>, 'total_rooms': <tf.Tensor 'ExpandDims_8:0' shape=(None, 1) dtype=float64>, 'total_bedrooms': <tf.Tensor 'ExpandDims_7:0' shape=(None, 1) dtype=float64>, 'population': <tf.Tensor 'ExpandDims_6:0' shape=(None, 1) dtype=float64>, 'households': <tf.Tensor 'ExpandDims:0' shape=(None, 1) dtype=float64>, 'median_income': <tf.Tensor 'ExpandDims_4:0' shape=(None, 1) dtype=float64>, 'ocean_proximity': <tf.Tensor 'ExpandDims_5:0' shape=(None, 1) dtype=string>}\n",
      "Consider rewriting this model with the Functional API.\n",
      "403/409 [============================>.] - ETA: 0s - loss: 49362731008.0000 - mse: 49362731008.0000WARNING:tensorflow:Layers in a Sequential model should only have a single input tensor, but we receive a <class 'dict'> input: {'longitude': <tf.Tensor 'ExpandDims_3:0' shape=(None, 1) dtype=float64>, 'latitude': <tf.Tensor 'ExpandDims_2:0' shape=(None, 1) dtype=float64>, 'housing_median_age': <tf.Tensor 'ExpandDims_1:0' shape=(None, 1) dtype=float64>, 'total_rooms': <tf.Tensor 'ExpandDims_8:0' shape=(None, 1) dtype=float64>, 'total_bedrooms': <tf.Tensor 'ExpandDims_7:0' shape=(None, 1) dtype=float64>, 'population': <tf.Tensor 'ExpandDims_6:0' shape=(None, 1) dtype=float64>, 'households': <tf.Tensor 'ExpandDims:0' shape=(None, 1) dtype=float64>, 'median_income': <tf.Tensor 'ExpandDims_4:0' shape=(None, 1) dtype=float64>, 'ocean_proximity': <tf.Tensor 'ExpandDims_5:0' shape=(None, 1) dtype=string>}\n",
      "Consider rewriting this model with the Functional API.\n",
      "409/409 [==============================] - 2s 6ms/step - loss: 49157255168.0000 - mse: 49157255168.0000 - val_loss: 36509188096.0000 - val_mse: 36509188096.0000\n",
      "Epoch 2/32\n",
      "409/409 [==============================] - 2s 5ms/step - loss: 27801006080.0000 - mse: 27801006080.0000 - val_loss: 27088207872.0000 - val_mse: 27088207872.0000\n",
      "Epoch 3/32\n",
      "409/409 [==============================] - 2s 5ms/step - loss: 26104363008.0000 - mse: 26104363008.0000 - val_loss: 26580641792.0000 - val_mse: 26580641792.0000\n",
      "Epoch 4/32\n",
      "409/409 [==============================] - 2s 5ms/step - loss: 25660086272.0000 - mse: 25660086272.0000 - val_loss: 26040109056.0000 - val_mse: 26040109056.0000\n",
      "Epoch 5/32\n",
      "409/409 [==============================] - 2s 5ms/step - loss: 24957874176.0000 - mse: 24957874176.0000 - val_loss: 25255526400.0000 - val_mse: 25255526400.0000\n",
      "Epoch 6/32\n",
      "409/409 [==============================] - 2s 5ms/step - loss: 24159553536.0000 - mse: 24159553536.0000 - val_loss: 24394713088.0000 - val_mse: 24394713088.0000\n",
      "Epoch 7/32\n",
      "409/409 [==============================] - 2s 5ms/step - loss: 23196266496.0000 - mse: 23196266496.0000 - val_loss: 23462025216.0000 - val_mse: 23462025216.0000\n",
      "Epoch 8/32\n",
      "409/409 [==============================] - 2s 5ms/step - loss: 22158837760.0000 - mse: 22158837760.0000 - val_loss: 22275651584.0000 - val_mse: 22275651584.0000\n",
      "Epoch 9/32\n",
      "409/409 [==============================] - 2s 5ms/step - loss: 20949030912.0000 - mse: 20949030912.0000 - val_loss: 20981465088.0000 - val_mse: 20981465088.0000\n",
      "Epoch 10/32\n",
      "409/409 [==============================] - 2s 6ms/step - loss: 19626508288.0000 - mse: 19626508288.0000 - val_loss: 19608049664.0000 - val_mse: 19608049664.0000\n",
      "Epoch 11/32\n",
      "409/409 [==============================] - 3s 7ms/step - loss: 18194483200.0000 - mse: 18194483200.0000 - val_loss: 18112987136.0000 - val_mse: 18112987136.0000\n",
      "Epoch 12/32\n",
      "409/409 [==============================] - 3s 8ms/step - loss: 16683455488.0000 - mse: 16683455488.0000 - val_loss: 16586698752.0000 - val_mse: 16586698752.0000\n",
      "Epoch 13/32\n",
      "409/409 [==============================] - 3s 8ms/step - loss: 15195158528.0000 - mse: 15195158528.0000 - val_loss: 15147244544.0000 - val_mse: 15147244544.0000\n",
      "Epoch 14/32\n",
      "409/409 [==============================] - 3s 8ms/step - loss: 13804408832.0000 - mse: 13804408832.0000 - val_loss: 13885351936.0000 - val_mse: 13885351936.0000\n",
      "Epoch 15/32\n",
      "409/409 [==============================] - 2s 6ms/step - loss: 12684614656.0000 - mse: 12684614656.0000 - val_loss: 12915964928.0000 - val_mse: 12915964928.0000\n",
      "Epoch 16/32\n",
      "409/409 [==============================] - 2s 6ms/step - loss: 11915555840.0000 - mse: 11915555840.0000 - val_loss: 12311871488.0000 - val_mse: 12311871488.0000\n",
      "Epoch 17/32\n",
      "409/409 [==============================] - 2s 6ms/step - loss: 11475315712.0000 - mse: 11475315712.0000 - val_loss: 12000372736.0000 - val_mse: 12000372736.0000\n",
      "Epoch 18/32\n",
      "409/409 [==============================] - 2s 6ms/step - loss: 11251030016.0000 - mse: 11251030016.0000 - val_loss: 11852741632.0000 - val_mse: 11852741632.0000\n",
      "Epoch 19/32\n",
      "409/409 [==============================] - 2s 5ms/step - loss: 11142885376.0000 - mse: 11142885376.0000 - val_loss: 11762195456.0000 - val_mse: 11762195456.0000\n",
      "Epoch 20/32\n",
      "409/409 [==============================] - 2s 4ms/step - loss: 11080625152.0000 - mse: 11080625152.0000 - val_loss: 11692921856.0000 - val_mse: 11692921856.0000\n",
      "Epoch 21/32\n",
      "409/409 [==============================] - 2s 4ms/step - loss: 11028743168.0000 - mse: 11028743168.0000 - val_loss: 11654563840.0000 - val_mse: 11654563840.0000\n",
      "Epoch 22/32\n",
      "409/409 [==============================] - 2s 5ms/step - loss: 10980278272.0000 - mse: 10980278272.0000 - val_loss: 11598885888.0000 - val_mse: 11598885888.0000\n",
      "Epoch 23/32\n",
      "409/409 [==============================] - 3s 6ms/step - loss: 10934089728.0000 - mse: 10934089728.0000 - val_loss: 11559054336.0000 - val_mse: 11559054336.0000\n",
      "Epoch 24/32\n",
      "409/409 [==============================] - 2s 5ms/step - loss: 10888864768.0000 - mse: 10888864768.0000 - val_loss: 11520727040.0000 - val_mse: 11520727040.0000\n",
      "Epoch 25/32\n",
      "409/409 [==============================] - 3s 6ms/step - loss: 10855131136.0000 - mse: 10855131136.0000 - val_loss: 11467812864.0000 - val_mse: 11467812864.0000\n",
      "Epoch 26/32\n",
      "409/409 [==============================] - 2s 4ms/step - loss: 10810295296.0000 - mse: 10810295296.0000 - val_loss: 11411142656.0000 - val_mse: 11411142656.0000\n",
      "Epoch 27/32\n",
      "409/409 [==============================] - 2s 4ms/step - loss: 10760214528.0000 - mse: 10760214528.0000 - val_loss: 11375019008.0000 - val_mse: 11375019008.0000\n",
      "Epoch 28/32\n",
      "409/409 [==============================] - 2s 6ms/step - loss: 10718172160.0000 - mse: 10718172160.0000 - val_loss: 11312811008.0000 - val_mse: 11312811008.0000\n",
      "Epoch 29/32\n",
      "409/409 [==============================] - 2s 6ms/step - loss: 10667288576.0000 - mse: 10667288576.0000 - val_loss: 11283633152.0000 - val_mse: 11283633152.0000\n",
      "Epoch 30/32\n",
      "409/409 [==============================] - 2s 5ms/step - loss: 10627953664.0000 - mse: 10627952640.0000 - val_loss: 11214843904.0000 - val_mse: 11214843904.0000\n",
      "Epoch 31/32\n",
      "409/409 [==============================] - 2s 4ms/step - loss: 10576679936.0000 - mse: 10576679936.0000 - val_loss: 11165395968.0000 - val_mse: 11165395968.0000\n",
      "Epoch 32/32\n",
      "409/409 [==============================] - 3s 7ms/step - loss: 10531001344.0000 - mse: 10531001344.0000 - val_loss: 11115486208.0000 - val_mse: 11115486208.0000\n"
     ]
    }
   ],
   "source": [
    "# Model create\n",
    "\n",
    "# TODO 1\n",
    "# TODO -- Your code here.\n",
    "\n",
    "feature_layer = tf.keras.layers.DenseFeatures(feature_columns, dtype='float64')\n",
    "\n",
    "model = tf.keras.Sequential([\n",
    "  feature_layer,\n",
    "  layers.Dense(12, input_dim=8, activation='relu'),\n",
    "  layers.Dense(8, activation='relu'),\n",
    "  layers.Dense(1, activation='linear',  name='median_house_value')\n",
    "])\n",
    "\n",
    "# Model compile\n",
    "# TODO 2a\n",
    "# TODO -- Your code here.\n",
    "model.compile(optimizer=\"Adam\", loss=\"mse\", metrics=[\"mse\"])\n",
    "\n",
    "# Model Fit\n",
    "history = model.fit(train_ds,\n",
    "                    validation_data=val_ds,\n",
    "                    epochs=32)"
   ]
  },
  {
   "cell_type": "code",
   "execution_count": 12,
   "metadata": {},
   "outputs": [
    {
     "data": {
      "image/png": "[encoded data removed]",
      "text/plain": [
       "<Figure size 720x360 with 2 Axes>"
      ]
     },
     "metadata": {
      "needs_background": "light"
     },
     "output_type": "display_data"
    }
   ],
   "source": [
    "def plot_curves(history, metrics):\n",
    "    nrows = 1\n",
    "    ncols = 2\n",
    "    fig = plt.figure(figsize=(10, 5))\n",
    "\n",
    "    for idx, key in enumerate(metrics):  \n",
    "        ax = fig.add_subplot(nrows, ncols, idx+1)\n",
    "        plt.plot(history.history[key])\n",
    "        plt.plot(history.history['val_{}'.format(key)])\n",
    "        plt.title('model {}'.format(key))\n",
    "        plt.ylabel(key)\n",
    "        plt.xlabel('epoch')\n",
    "        plt.legend(['train', 'validation'], loc='upper left'); \n",
    "plot_curves(history, ['loss', 'mse'])"
   ]
  },
  {
   "cell_type": "markdown",
   "metadata": {},
   "source": [
    "## Model 2 - hard coding the learning rate to .1"
   ]
  },
  {
   "cell_type": "code",
   "execution_count": 13,
   "metadata": {},
   "outputs": [
    {
     "name": "stdout",
     "output_type": "stream",
     "text": [
      "Epoch 1/32\n",
      "WARNING:tensorflow:Layers in a Sequential model should only have a single input tensor, but we receive a <class 'dict'> input: {'longitude': <tf.Tensor 'ExpandDims_3:0' shape=(None, 1) dtype=float64>, 'latitude': <tf.Tensor 'ExpandDims_2:0' shape=(None, 1) dtype=float64>, 'housing_median_age': <tf.Tensor 'ExpandDims_1:0' shape=(None, 1) dtype=float64>, 'total_rooms': <tf.Tensor 'ExpandDims_8:0' shape=(None, 1) dtype=float64>, 'total_bedrooms': <tf.Tensor 'ExpandDims_7:0' shape=(None, 1) dtype=float64>, 'population': <tf.Tensor 'ExpandDims_6:0' shape=(None, 1) dtype=float64>, 'households': <tf.Tensor 'ExpandDims:0' shape=(None, 1) dtype=float64>, 'median_income': <tf.Tensor 'ExpandDims_4:0' shape=(None, 1) dtype=float64>, 'ocean_proximity': <tf.Tensor 'ExpandDims_5:0' shape=(None, 1) dtype=string>}\n",
      "Consider rewriting this model with the Functional API.\n",
      "WARNING:tensorflow:Layers in a Sequential model should only have a single input tensor, but we receive a <class 'dict'> input: {'longitude': <tf.Tensor 'ExpandDims_3:0' shape=(None, 1) dtype=float64>, 'latitude': <tf.Tensor 'ExpandDims_2:0' shape=(None, 1) dtype=float64>, 'housing_median_age': <tf.Tensor 'ExpandDims_1:0' shape=(None, 1) dtype=float64>, 'total_rooms': <tf.Tensor 'ExpandDims_8:0' shape=(None, 1) dtype=float64>, 'total_bedrooms': <tf.Tensor 'ExpandDims_7:0' shape=(None, 1) dtype=float64>, 'population': <tf.Tensor 'ExpandDims_6:0' shape=(None, 1) dtype=float64>, 'households': <tf.Tensor 'ExpandDims:0' shape=(None, 1) dtype=float64>, 'median_income': <tf.Tensor 'ExpandDims_4:0' shape=(None, 1) dtype=float64>, 'ocean_proximity': <tf.Tensor 'ExpandDims_5:0' shape=(None, 1) dtype=string>}\n",
      "Consider rewriting this model with the Functional API.\n",
      "405/409 [============================>.] - ETA: 0s - loss: 15273788416.0000 - mse: 15273788416.0000WARNING:tensorflow:Layers in a Sequential model should only have a single input tensor, but we receive a <class 'dict'> input: {'longitude': <tf.Tensor 'ExpandDims_3:0' shape=(None, 1) dtype=float64>, 'latitude': <tf.Tensor 'ExpandDims_2:0' shape=(None, 1) dtype=float64>, 'housing_median_age': <tf.Tensor 'ExpandDims_1:0' shape=(None, 1) dtype=float64>, 'total_rooms': <tf.Tensor 'ExpandDims_8:0' shape=(None, 1) dtype=float64>, 'total_bedrooms': <tf.Tensor 'ExpandDims_7:0' shape=(None, 1) dtype=float64>, 'population': <tf.Tensor 'ExpandDims_6:0' shape=(None, 1) dtype=float64>, 'households': <tf.Tensor 'ExpandDims:0' shape=(None, 1) dtype=float64>, 'median_income': <tf.Tensor 'ExpandDims_4:0' shape=(None, 1) dtype=float64>, 'ocean_proximity': <tf.Tensor 'ExpandDims_5:0' shape=(None, 1) dtype=string>}\n",
      "Consider rewriting this model with the Functional API.\n",
      "409/409 [==============================] - 3s 7ms/step - loss: 15270922240.0000 - mse: 15270922240.0000 - val_loss: 11678632960.0000 - val_mse: 11678632960.0000\n",
      "Epoch 2/32\n",
      "409/409 [==============================] - 2s 4ms/step - loss: 10193831936.0000 - mse: 10193831936.0000 - val_loss: 10350134272.0000 - val_mse: 10350134272.0000\n",
      "Epoch 3/32\n",
      "409/409 [==============================] - 2s 5ms/step - loss: 9019793408.0000 - mse: 9019793408.0000 - val_loss: 8409401344.0000 - val_mse: 8409401344.0000\n",
      "Epoch 4/32\n",
      "409/409 [==============================] - 2s 4ms/step - loss: 8312829440.0000 - mse: 8312829440.0000 - val_loss: 7986947072.0000 - val_mse: 7986947072.0000\n",
      "Epoch 5/32\n",
      "409/409 [==============================] - 2s 5ms/step - loss: 8332309504.0000 - mse: 8332309504.0000 - val_loss: 11670129664.0000 - val_mse: 11670129664.0000\n",
      "Epoch 6/32\n",
      "409/409 [==============================] - 2s 4ms/step - loss: 7799073280.0000 - mse: 7799073280.0000 - val_loss: 7278643712.0000 - val_mse: 7278643712.0000\n",
      "Epoch 7/32\n",
      "409/409 [==============================] - 2s 4ms/step - loss: 7352094720.0000 - mse: 7352094720.0000 - val_loss: 6962039808.0000 - val_mse: 6962039808.0000\n",
      "Epoch 8/32\n",
      "409/409 [==============================] - 2s 5ms/step - loss: 7136816640.0000 - mse: 7136816640.0000 - val_loss: 7035506688.0000 - val_mse: 7035506688.0000\n",
      "Epoch 9/32\n",
      "409/409 [==============================] - 2s 4ms/step - loss: 6947315200.0000 - mse: 6947315200.0000 - val_loss: 7944098304.0000 - val_mse: 7944098304.0000\n",
      "Epoch 10/32\n",
      "409/409 [==============================] - 1s 4ms/step - loss: 6600459776.0000 - mse: 6600459776.0000 - val_loss: 7288285696.0000 - val_mse: 7288285696.0000\n",
      "Epoch 11/32\n",
      "409/409 [==============================] - 2s 4ms/step - loss: 6499147776.0000 - mse: 6499147776.0000 - val_loss: 6360639488.0000 - val_mse: 6360639488.0000\n",
      "Epoch 12/32\n",
      "409/409 [==============================] - 2s 4ms/step - loss: 6472255488.0000 - mse: 6472255488.0000 - val_loss: 6972743680.0000 - val_mse: 6972743680.0000\n",
      "Epoch 13/32\n",
      "409/409 [==============================] - 2s 5ms/step - loss: 6353804288.0000 - mse: 6353804288.0000 - val_loss: 6455249920.0000 - val_mse: 6455249920.0000\n",
      "Epoch 14/32\n",
      "409/409 [==============================] - 2s 6ms/step - loss: 6354992640.0000 - mse: 6354992640.0000 - val_loss: 7321424384.0000 - val_mse: 7321424384.0000\n",
      "Epoch 15/32\n",
      "409/409 [==============================] - 2s 4ms/step - loss: 6514007040.0000 - mse: 6514007040.0000 - val_loss: 7882272256.0000 - val_mse: 7882272256.0000\n",
      "Epoch 16/32\n",
      "409/409 [==============================] - 3s 6ms/step - loss: 6476756992.0000 - mse: 6476756992.0000 - val_loss: 6366684160.0000 - val_mse: 6366684160.0000\n",
      "Epoch 17/32\n",
      "409/409 [==============================] - 2s 4ms/step - loss: 5994544640.0000 - mse: 5994544640.0000 - val_loss: 5951031808.0000 - val_mse: 5951031808.0000\n",
      "Epoch 18/32\n",
      "409/409 [==============================] - 2s 4ms/step - loss: 6169177600.0000 - mse: 6169177600.0000 - val_loss: 5910791680.0000 - val_mse: 5910791680.0000\n",
      "Epoch 19/32\n",
      "409/409 [==============================] - 2s 4ms/step - loss: 6122192896.0000 - mse: 6122192896.0000 - val_loss: 5815612928.0000 - val_mse: 5815612928.0000\n",
      "Epoch 20/32\n",
      "409/409 [==============================] - 2s 4ms/step - loss: 6322954240.0000 - mse: 6322954240.0000 - val_loss: 5907560960.0000 - val_mse: 5907560960.0000\n",
      "Epoch 21/32\n",
      "409/409 [==============================] - 1s 4ms/step - loss: 5820521984.0000 - mse: 5820521984.0000 - val_loss: 7146176512.0000 - val_mse: 7146176512.0000\n",
      "Epoch 22/32\n",
      "409/409 [==============================] - 2s 4ms/step - loss: 5871691776.0000 - mse: 5871691776.0000 - val_loss: 6012995072.0000 - val_mse: 6012995072.0000\n",
      "Epoch 23/32\n",
      "409/409 [==============================] - 2s 4ms/step - loss: 5850333184.0000 - mse: 5850333184.0000 - val_loss: 5960465920.0000 - val_mse: 5960465920.0000\n",
      "Epoch 24/32\n",
      "409/409 [==============================] - 2s 4ms/step - loss: 5820631552.0000 - mse: 5820631552.0000 - val_loss: 6011987968.0000 - val_mse: 6011987968.0000\n",
      "Epoch 25/32\n",
      "409/409 [==============================] - 2s 6ms/step - loss: 6201575936.0000 - mse: 6201575936.0000 - val_loss: 6352967168.0000 - val_mse: 6352967168.0000\n",
      "Epoch 26/32\n",
      "409/409 [==============================] - 2s 5ms/step - loss: 5804843520.0000 - mse: 5804843520.0000 - val_loss: 5614105600.0000 - val_mse: 5614105600.0000\n",
      "Epoch 27/32\n",
      "409/409 [==============================] - 2s 5ms/step - loss: 5666912256.0000 - mse: 5666912256.0000 - val_loss: 5502729728.0000 - val_mse: 5502729728.0000\n",
      "Epoch 28/32\n",
      "409/409 [==============================] - 2s 5ms/step - loss: 5810361856.0000 - mse: 5810361856.0000 - val_loss: 6409839104.0000 - val_mse: 6409839104.0000\n",
      "Epoch 29/32\n",
      "409/409 [==============================] - 2s 4ms/step - loss: 5947320832.0000 - mse: 5947320832.0000 - val_loss: 5815664128.0000 - val_mse: 5815664128.0000\n",
      "Epoch 30/32\n",
      "409/409 [==============================] - 2s 4ms/step - loss: 6097237504.0000 - mse: 6097237504.0000 - val_loss: 5971069440.0000 - val_mse: 5971069440.0000\n",
      "Epoch 31/32\n",
      "409/409 [==============================] - 2s 4ms/step - loss: 5800567808.0000 - mse: 5800567808.0000 - val_loss: 5702861312.0000 - val_mse: 5702861312.0000\n",
      "Epoch 32/32\n",
      "409/409 [==============================] - 2s 5ms/step - loss: 5724236800.0000 - mse: 5724236800.0000 - val_loss: 5601523200.0000 - val_mse: 5601523200.0000\n"
     ]
    }
   ],
   "source": [
    "# Model create\n",
    "feature_layer = tf.keras.layers.DenseFeatures(feature_columns, dtype='float64')\n",
    "\n",
    "model = tf.keras.Sequential([\n",
    "  feature_layer,\n",
    "  layers.Dense(12, input_dim=8, activation='relu'),\n",
    "  layers.Dense(8, activation='relu'),\n",
    "  layers.Dense(1, activation='linear',  name='median_house_value')\n",
    "])\n",
    "\n",
    "# Model compile\n",
    "# TODO 2b\n",
    "# TODO -- Your code here.\n",
    "model.compile(optimizer=Adam(learning_rate=.1), loss=\"mse\", metrics=[\"mse\"])\n",
    "\n",
    "# Model Fit\n",
    "history = model.fit(train_ds,\n",
    "                    validation_data=val_ds,\n",
    "                    epochs=32)"
   ]
  },
  {
   "cell_type": "code",
   "execution_count": 14,
   "metadata": {},
   "outputs": [
    {
     "data": {
      "image/png": "[encoded data removed]",
      "text/plain": [
       "<Figure size 720x360 with 2 Axes>"
      ]
     },
     "metadata": {
      "needs_background": "light"
     },
     "output_type": "display_data"
    }
   ],
   "source": [
    "def plot_curves(history, metrics):\n",
    "    nrows = 1\n",
    "    ncols = 2\n",
    "    fig = plt.figure(figsize=(10, 5))\n",
    "\n",
    "    for idx, key in enumerate(metrics):  \n",
    "        ax = fig.add_subplot(nrows, ncols, idx+1)\n",
    "        plt.plot(history.history[key])\n",
    "        plt.plot(history.history['val_{}'.format(key)])\n",
    "        plt.title('model {}'.format(key))\n",
    "        plt.ylabel(key)\n",
    "        plt.xlabel('epoch')\n",
    "        plt.legend(['train', 'validation'], loc='upper left');  \n",
    "plot_curves(history, ['loss', 'mse'])"
   ]
  },
  {
   "cell_type": "markdown",
   "metadata": {},
   "source": [
    "## Model 3 - hard coding the learning rate to .01 "
   ]
  },
  {
   "cell_type": "code",
   "execution_count": 15,
   "metadata": {},
   "outputs": [
    {
     "name": "stdout",
     "output_type": "stream",
     "text": [
      "Epoch 1/32\n",
      "WARNING:tensorflow:Layers in a Sequential model should only have a single input tensor, but we receive a <class 'dict'> input: {'longitude': <tf.Tensor 'ExpandDims_3:0' shape=(None, 1) dtype=float64>, 'latitude': <tf.Tensor 'ExpandDims_2:0' shape=(None, 1) dtype=float64>, 'housing_median_age': <tf.Tensor 'ExpandDims_1:0' shape=(None, 1) dtype=float64>, 'total_rooms': <tf.Tensor 'ExpandDims_8:0' shape=(None, 1) dtype=float64>, 'total_bedrooms': <tf.Tensor 'ExpandDims_7:0' shape=(None, 1) dtype=float64>, 'population': <tf.Tensor 'ExpandDims_6:0' shape=(None, 1) dtype=float64>, 'households': <tf.Tensor 'ExpandDims:0' shape=(None, 1) dtype=float64>, 'median_income': <tf.Tensor 'ExpandDims_4:0' shape=(None, 1) dtype=float64>, 'ocean_proximity': <tf.Tensor 'ExpandDims_5:0' shape=(None, 1) dtype=string>}\n",
      "Consider rewriting this model with the Functional API.\n",
      "WARNING:tensorflow:Layers in a Sequential model should only have a single input tensor, but we receive a <class 'dict'> input: {'longitude': <tf.Tensor 'ExpandDims_3:0' shape=(None, 1) dtype=float64>, 'latitude': <tf.Tensor 'ExpandDims_2:0' shape=(None, 1) dtype=float64>, 'housing_median_age': <tf.Tensor 'ExpandDims_1:0' shape=(None, 1) dtype=float64>, 'total_rooms': <tf.Tensor 'ExpandDims_8:0' shape=(None, 1) dtype=float64>, 'total_bedrooms': <tf.Tensor 'ExpandDims_7:0' shape=(None, 1) dtype=float64>, 'population': <tf.Tensor 'ExpandDims_6:0' shape=(None, 1) dtype=float64>, 'households': <tf.Tensor 'ExpandDims:0' shape=(None, 1) dtype=float64>, 'median_income': <tf.Tensor 'ExpandDims_4:0' shape=(None, 1) dtype=float64>, 'ocean_proximity': <tf.Tensor 'ExpandDims_5:0' shape=(None, 1) dtype=string>}\n",
      "Consider rewriting this model with the Functional API.\n",
      "404/409 [============================>.] - ETA: 0s - loss: 31428962304.0000 - mse: 31428962304.0000WARNING:tensorflow:Layers in a Sequential model should only have a single input tensor, but we receive a <class 'dict'> input: {'longitude': <tf.Tensor 'ExpandDims_3:0' shape=(None, 1) dtype=float64>, 'latitude': <tf.Tensor 'ExpandDims_2:0' shape=(None, 1) dtype=float64>, 'housing_median_age': <tf.Tensor 'ExpandDims_1:0' shape=(None, 1) dtype=float64>, 'total_rooms': <tf.Tensor 'ExpandDims_8:0' shape=(None, 1) dtype=float64>, 'total_bedrooms': <tf.Tensor 'ExpandDims_7:0' shape=(None, 1) dtype=float64>, 'population': <tf.Tensor 'ExpandDims_6:0' shape=(None, 1) dtype=float64>, 'households': <tf.Tensor 'ExpandDims:0' shape=(None, 1) dtype=float64>, 'median_income': <tf.Tensor 'ExpandDims_4:0' shape=(None, 1) dtype=float64>, 'ocean_proximity': <tf.Tensor 'ExpandDims_5:0' shape=(None, 1) dtype=string>}\n",
      "Consider rewriting this model with the Functional API.\n",
      "409/409 [==============================] - 2s 5ms/step - loss: 31385214976.0000 - mse: 31385214976.0000 - val_loss: 23989161984.0000 - val_mse: 23989161984.0000\n",
      "Epoch 2/32\n",
      "409/409 [==============================] - 2s 5ms/step - loss: 17179433984.0000 - mse: 17179433984.0000 - val_loss: 12641973248.0000 - val_mse: 12641973248.0000\n",
      "Epoch 3/32\n",
      "409/409 [==============================] - 2s 6ms/step - loss: 11219085312.0000 - mse: 11219085312.0000 - val_loss: 11575710720.0000 - val_mse: 11575710720.0000\n",
      "Epoch 4/32\n",
      "409/409 [==============================] - 2s 5ms/step - loss: 10840265728.0000 - mse: 10840265728.0000 - val_loss: 11377719296.0000 - val_mse: 11377719296.0000\n",
      "Epoch 5/32\n",
      "409/409 [==============================] - 2s 5ms/step - loss: 10599441408.0000 - mse: 10599441408.0000 - val_loss: 11096949760.0000 - val_mse: 11096949760.0000\n",
      "Epoch 6/32\n",
      "409/409 [==============================] - 2s 4ms/step - loss: 10299660288.0000 - mse: 10299660288.0000 - val_loss: 10680294400.0000 - val_mse: 10680294400.0000\n",
      "Epoch 7/32\n",
      "409/409 [==============================] - 2s 5ms/step - loss: 10002647040.0000 - mse: 10002647040.0000 - val_loss: 10372088832.0000 - val_mse: 10372088832.0000\n",
      "Epoch 8/32\n",
      "409/409 [==============================] - 3s 7ms/step - loss: 9747089408.0000 - mse: 9747089408.0000 - val_loss: 10385370112.0000 - val_mse: 10385370112.0000\n",
      "Epoch 9/32\n",
      "409/409 [==============================] - 2s 4ms/step - loss: 9434704896.0000 - mse: 9434704896.0000 - val_loss: 9733399552.0000 - val_mse: 9733399552.0000\n",
      "Epoch 10/32\n",
      "409/409 [==============================] - 2s 4ms/step - loss: 9171258368.0000 - mse: 9171258368.0000 - val_loss: 9508160512.0000 - val_mse: 9508160512.0000\n",
      "Epoch 11/32\n",
      "409/409 [==============================] - 2s 5ms/step - loss: 8855192576.0000 - mse: 8855192576.0000 - val_loss: 9246661632.0000 - val_mse: 9246661632.0000\n",
      "Epoch 12/32\n",
      "409/409 [==============================] - 2s 5ms/step - loss: 8619577344.0000 - mse: 8619577344.0000 - val_loss: 8819936256.0000 - val_mse: 8819936256.0000\n",
      "Epoch 13/32\n",
      "409/409 [==============================] - 2s 5ms/step - loss: 8407670272.0000 - mse: 8407670272.0000 - val_loss: 8604300288.0000 - val_mse: 8604300288.0000\n",
      "Epoch 14/32\n",
      "409/409 [==============================] - 2s 4ms/step - loss: 8126133760.0000 - mse: 8126133760.0000 - val_loss: 8503695360.0000 - val_mse: 8503695360.0000\n",
      "Epoch 15/32\n",
      "409/409 [==============================] - 2s 4ms/step - loss: 7992662016.0000 - mse: 7992662016.0000 - val_loss: 8487494144.0000 - val_mse: 8487494144.0000\n",
      "Epoch 16/32\n",
      "409/409 [==============================] - 1s 4ms/step - loss: 7744129024.0000 - mse: 7744129024.0000 - val_loss: 8088272896.0000 - val_mse: 8088272896.0000\n",
      "Epoch 17/32\n",
      "409/409 [==============================] - 2s 4ms/step - loss: 7544936960.0000 - mse: 7544936960.0000 - val_loss: 7756812288.0000 - val_mse: 7756812288.0000\n",
      "Epoch 18/32\n",
      "409/409 [==============================] - 2s 4ms/step - loss: 7418582528.0000 - mse: 7418582528.0000 - val_loss: 7638957568.0000 - val_mse: 7638957568.0000\n",
      "Epoch 19/32\n",
      "409/409 [==============================] - 2s 5ms/step - loss: 7296192512.0000 - mse: 7296192512.0000 - val_loss: 7553505792.0000 - val_mse: 7553505792.0000\n",
      "Epoch 20/32\n",
      "409/409 [==============================] - 2s 6ms/step - loss: 7210529280.0000 - mse: 7210529280.0000 - val_loss: 8808271872.0000 - val_mse: 8808271872.0000\n",
      "Epoch 21/32\n",
      "409/409 [==============================] - 3s 7ms/step - loss: 7106440192.0000 - mse: 7106440192.0000 - val_loss: 7351802880.0000 - val_mse: 7351802880.0000\n",
      "Epoch 22/32\n",
      "409/409 [==============================] - 2s 5ms/step - loss: 7005613056.0000 - mse: 7005613056.0000 - val_loss: 7412383744.0000 - val_mse: 7412383744.0000\n",
      "Epoch 23/32\n",
      "409/409 [==============================] - 2s 4ms/step - loss: 6900687360.0000 - mse: 6900687360.0000 - val_loss: 7555088896.0000 - val_mse: 7555088896.0000\n",
      "Epoch 24/32\n",
      "409/409 [==============================] - 2s 5ms/step - loss: 6788620288.0000 - mse: 6788620288.0000 - val_loss: 7227302912.0000 - val_mse: 7227302912.0000\n",
      "Epoch 25/32\n",
      "409/409 [==============================] - 2s 5ms/step - loss: 6741185024.0000 - mse: 6741185024.0000 - val_loss: 7008926208.0000 - val_mse: 7008926208.0000\n",
      "Epoch 26/32\n",
      "409/409 [==============================] - 2s 5ms/step - loss: 6686746624.0000 - mse: 6686746624.0000 - val_loss: 6923925504.0000 - val_mse: 6923925504.0000\n",
      "Epoch 27/32\n",
      "409/409 [==============================] - 2s 4ms/step - loss: 6578348032.0000 - mse: 6578348032.0000 - val_loss: 7355072512.0000 - val_mse: 7355072512.0000\n",
      "Epoch 28/32\n",
      "409/409 [==============================] - 2s 4ms/step - loss: 6593078784.0000 - mse: 6593078784.0000 - val_loss: 6758847488.0000 - val_mse: 6758847488.0000\n",
      "Epoch 29/32\n",
      "409/409 [==============================] - 2s 4ms/step - loss: 6494436864.0000 - mse: 6494436864.0000 - val_loss: 6997630976.0000 - val_mse: 6997630976.0000\n",
      "Epoch 30/32\n",
      "409/409 [==============================] - 2s 4ms/step - loss: 6386329088.0000 - mse: 6386329088.0000 - val_loss: 6718920192.0000 - val_mse: 6718920192.0000\n",
      "Epoch 31/32\n",
      "409/409 [==============================] - 2s 5ms/step - loss: 6228103168.0000 - mse: 6228103168.0000 - val_loss: 6535223296.0000 - val_mse: 6535223296.0000\n",
      "Epoch 32/32\n",
      "409/409 [==============================] - 2s 5ms/step - loss: 6107374080.0000 - mse: 6107374080.0000 - val_loss: 6451829248.0000 - val_mse: 6451829248.0000\n"
     ]
    }
   ],
   "source": [
    "# Model create\n",
    "\n",
    "feature_layer = tf.keras.layers.DenseFeatures(feature_columns, dtype='float64')\n",
    "\n",
    "model = tf.keras.Sequential([\n",
    "  feature_layer,\n",
    "  layers.Dense(12, input_dim=8, activation='relu'),\n",
    "  layers.Dense(8, activation='relu'),\n",
    "  layers.Dense(1, activation='linear',  name='median_house_value')\n",
    "])\n",
    "\n",
    "# Model compile\n",
    "# TODO 2c\n",
    "# TODO -- Your code here.\n",
    "model.compile(optimizer=Adam(learning_rate=.01), loss=\"mse\", metrics=[\"mse\"])\n",
    "\n",
    "# Model Fit\n",
    "history = model.fit(train_ds,\n",
    "                    validation_data=val_ds,\n",
    "                    epochs=32)  # Increase Epochs to 32"
   ]
  },
  {
   "cell_type": "code",
   "execution_count": 16,
   "metadata": {},
   "outputs": [
    {
     "data": {
      "image/png": "[encoded data removed]",
      "text/plain": [
       "<Figure size 720x360 with 2 Axes>"
      ]
     },
     "metadata": {
      "needs_background": "light"
     },
     "output_type": "display_data"
    }
   ],
   "source": [
    "def plot_curves(history, metrics):\n",
    "    nrows = 1\n",
    "    ncols = 2\n",
    "    fig = plt.figure(figsize=(10, 5))\n",
    "\n",
    "    for idx, key in enumerate(metrics):  \n",
    "        ax = fig.add_subplot(nrows, ncols, idx+1)\n",
    "        plt.plot(history.history[key])\n",
    "        plt.plot(history.history['val_{}'.format(key)])\n",
    "        plt.title('model {}'.format(key))\n",
    "        plt.ylabel(key)\n",
    "        plt.xlabel('epoch')\n",
    "        plt.legend(['train', 'validation'], loc='upper left');  \n",
    "plot_curves(history, ['loss', 'mse'])"
   ]
  },
  {
   "cell_type": "markdown",
   "metadata": {},
   "source": [
    "## Model 4 - hard coding the learning rate to .001 "
   ]
  },
  {
   "cell_type": "code",
   "execution_count": 17,
   "metadata": {},
   "outputs": [
    {
     "name": "stdout",
     "output_type": "stream",
     "text": [
      "Epoch 1/32\n",
      "WARNING:tensorflow:Layers in a Sequential model should only have a single input tensor, but we receive a <class 'dict'> input: {'longitude': <tf.Tensor 'ExpandDims_3:0' shape=(None, 1) dtype=float64>, 'latitude': <tf.Tensor 'ExpandDims_2:0' shape=(None, 1) dtype=float64>, 'housing_median_age': <tf.Tensor 'ExpandDims_1:0' shape=(None, 1) dtype=float64>, 'total_rooms': <tf.Tensor 'ExpandDims_8:0' shape=(None, 1) dtype=float64>, 'total_bedrooms': <tf.Tensor 'ExpandDims_7:0' shape=(None, 1) dtype=float64>, 'population': <tf.Tensor 'ExpandDims_6:0' shape=(None, 1) dtype=float64>, 'households': <tf.Tensor 'ExpandDims:0' shape=(None, 1) dtype=float64>, 'median_income': <tf.Tensor 'ExpandDims_4:0' shape=(None, 1) dtype=float64>, 'ocean_proximity': <tf.Tensor 'ExpandDims_5:0' shape=(None, 1) dtype=string>}\n",
      "Consider rewriting this model with the Functional API.\n",
      "WARNING:tensorflow:Layers in a Sequential model should only have a single input tensor, but we receive a <class 'dict'> input: {'longitude': <tf.Tensor 'ExpandDims_3:0' shape=(None, 1) dtype=float64>, 'latitude': <tf.Tensor 'ExpandDims_2:0' shape=(None, 1) dtype=float64>, 'housing_median_age': <tf.Tensor 'ExpandDims_1:0' shape=(None, 1) dtype=float64>, 'total_rooms': <tf.Tensor 'ExpandDims_8:0' shape=(None, 1) dtype=float64>, 'total_bedrooms': <tf.Tensor 'ExpandDims_7:0' shape=(None, 1) dtype=float64>, 'population': <tf.Tensor 'ExpandDims_6:0' shape=(None, 1) dtype=float64>, 'households': <tf.Tensor 'ExpandDims:0' shape=(None, 1) dtype=float64>, 'median_income': <tf.Tensor 'ExpandDims_4:0' shape=(None, 1) dtype=float64>, 'ocean_proximity': <tf.Tensor 'ExpandDims_5:0' shape=(None, 1) dtype=string>}\n",
      "Consider rewriting this model with the Functional API.\n",
      "398/409 [============================>.] - ETA: 0s - loss: 51175530496.0000 - mse: 51175530496.0000WARNING:tensorflow:Layers in a Sequential model should only have a single input tensor, but we receive a <class 'dict'> input: {'longitude': <tf.Tensor 'ExpandDims_3:0' shape=(None, 1) dtype=float64>, 'latitude': <tf.Tensor 'ExpandDims_2:0' shape=(None, 1) dtype=float64>, 'housing_median_age': <tf.Tensor 'ExpandDims_1:0' shape=(None, 1) dtype=float64>, 'total_rooms': <tf.Tensor 'ExpandDims_8:0' shape=(None, 1) dtype=float64>, 'total_bedrooms': <tf.Tensor 'ExpandDims_7:0' shape=(None, 1) dtype=float64>, 'population': <tf.Tensor 'ExpandDims_6:0' shape=(None, 1) dtype=float64>, 'households': <tf.Tensor 'ExpandDims:0' shape=(None, 1) dtype=float64>, 'median_income': <tf.Tensor 'ExpandDims_4:0' shape=(None, 1) dtype=float64>, 'ocean_proximity': <tf.Tensor 'ExpandDims_5:0' shape=(None, 1) dtype=string>}\n",
      "Consider rewriting this model with the Functional API.\n",
      "409/409 [==============================] - 2s 4ms/step - loss: 50821844992.0000 - mse: 50821844992.0000 - val_loss: 40858247168.0000 - val_mse: 40858247168.0000\n",
      "Epoch 2/32\n",
      "409/409 [==============================] - 2s 6ms/step - loss: 29311014912.0000 - mse: 29311014912.0000 - val_loss: 27180474368.0000 - val_mse: 27180474368.0000\n",
      "Epoch 3/32\n",
      "409/409 [==============================] - 2s 4ms/step - loss: 26215849984.0000 - mse: 26215849984.0000 - val_loss: 26775597056.0000 - val_mse: 26775597056.0000\n",
      "Epoch 4/32\n",
      "409/409 [==============================] - 2s 4ms/step - loss: 25880571904.0000 - mse: 25880571904.0000 - val_loss: 26448105472.0000 - val_mse: 26448105472.0000\n",
      "Epoch 5/32\n",
      "409/409 [==============================] - 2s 4ms/step - loss: 25520488448.0000 - mse: 25520488448.0000 - val_loss: 26099587072.0000 - val_mse: 26099587072.0000\n",
      "Epoch 6/32\n",
      "409/409 [==============================] - 2s 6ms/step - loss: 25052579840.0000 - mse: 25052579840.0000 - val_loss: 25526511616.0000 - val_mse: 25526511616.0000\n",
      "Epoch 7/32\n",
      "409/409 [==============================] - 2s 5ms/step - loss: 24346945536.0000 - mse: 24346945536.0000 - val_loss: 24666044416.0000 - val_mse: 24666044416.0000\n",
      "Epoch 8/32\n",
      "409/409 [==============================] - 2s 5ms/step - loss: 23437604864.0000 - mse: 23437604864.0000 - val_loss: 23650279424.0000 - val_mse: 23650279424.0000\n",
      "Epoch 9/32\n",
      "409/409 [==============================] - 2s 4ms/step - loss: 22394998784.0000 - mse: 22394998784.0000 - val_loss: 22561347584.0000 - val_mse: 22561347584.0000\n",
      "Epoch 10/32\n",
      "409/409 [==============================] - 1s 4ms/step - loss: 21170864128.0000 - mse: 21170864128.0000 - val_loss: 21216522240.0000 - val_mse: 21216522240.0000\n",
      "Epoch 11/32\n",
      "409/409 [==============================] - 2s 4ms/step - loss: 19802359808.0000 - mse: 19802359808.0000 - val_loss: 19867549696.0000 - val_mse: 19867549696.0000\n",
      "Epoch 12/32\n",
      "409/409 [==============================] - 2s 4ms/step - loss: 18357518336.0000 - mse: 18357518336.0000 - val_loss: 18301575168.0000 - val_mse: 18301575168.0000\n",
      "Epoch 13/32\n",
      "409/409 [==============================] - 2s 4ms/step - loss: 16833951744.0000 - mse: 16833951744.0000 - val_loss: 16770158592.0000 - val_mse: 16770158592.0000\n",
      "Epoch 14/32\n",
      "409/409 [==============================] - 2s 5ms/step - loss: 15343054848.0000 - mse: 15343054848.0000 - val_loss: 15334481920.0000 - val_mse: 15334481920.0000\n",
      "Epoch 15/32\n",
      "409/409 [==============================] - 3s 6ms/step - loss: 13958593536.0000 - mse: 13958593536.0000 - val_loss: 14031600640.0000 - val_mse: 14031600640.0000\n",
      "Epoch 16/32\n",
      "409/409 [==============================] - 2s 4ms/step - loss: 12818299904.0000 - mse: 12818299904.0000 - val_loss: 13042123776.0000 - val_mse: 13042123776.0000\n",
      "Epoch 17/32\n",
      "409/409 [==============================] - 1s 4ms/step - loss: 11959260160.0000 - mse: 11959260160.0000 - val_loss: 12325900288.0000 - val_mse: 12325900288.0000\n",
      "Epoch 18/32\n",
      "409/409 [==============================] - 2s 4ms/step - loss: 11451291648.0000 - mse: 11451291648.0000 - val_loss: 11971931136.0000 - val_mse: 11971931136.0000\n",
      "Epoch 19/32\n",
      "409/409 [==============================] - 2s 4ms/step - loss: 11223328768.0000 - mse: 11223328768.0000 - val_loss: 11841852416.0000 - val_mse: 11841852416.0000\n",
      "Epoch 20/32\n",
      "409/409 [==============================] - 2s 4ms/step - loss: 11125958656.0000 - mse: 11125958656.0000 - val_loss: 11755950080.0000 - val_mse: 11755950080.0000\n",
      "Epoch 21/32\n",
      "409/409 [==============================] - 2s 4ms/step - loss: 11058879488.0000 - mse: 11058879488.0000 - val_loss: 11716604928.0000 - val_mse: 11716604928.0000\n",
      "Epoch 22/32\n",
      "409/409 [==============================] - 2s 5ms/step - loss: 11008731136.0000 - mse: 11008731136.0000 - val_loss: 11651526656.0000 - val_mse: 11651526656.0000\n",
      "Epoch 23/32\n",
      "409/409 [==============================] - 2s 5ms/step - loss: 10959839232.0000 - mse: 10959839232.0000 - val_loss: 11587170304.0000 - val_mse: 11587170304.0000\n",
      "Epoch 24/32\n",
      "409/409 [==============================] - 2s 4ms/step - loss: 10908480512.0000 - mse: 10908480512.0000 - val_loss: 11531184128.0000 - val_mse: 11531184128.0000\n",
      "Epoch 25/32\n",
      "409/409 [==============================] - 2s 4ms/step - loss: 10854025216.0000 - mse: 10854025216.0000 - val_loss: 11475163136.0000 - val_mse: 11475163136.0000\n",
      "Epoch 26/32\n",
      "409/409 [==============================] - 2s 4ms/step - loss: 10803108864.0000 - mse: 10803108864.0000 - val_loss: 11413486592.0000 - val_mse: 11413486592.0000\n",
      "Epoch 27/32\n",
      "409/409 [==============================] - 2s 4ms/step - loss: 10751963136.0000 - mse: 10751963136.0000 - val_loss: 11350359040.0000 - val_mse: 11350359040.0000\n",
      "Epoch 28/32\n",
      "409/409 [==============================] - 2s 4ms/step - loss: 10697586688.0000 - mse: 10697586688.0000 - val_loss: 11294571520.0000 - val_mse: 11294571520.0000\n",
      "Epoch 29/32\n",
      "409/409 [==============================] - 2s 4ms/step - loss: 10637589504.0000 - mse: 10637589504.0000 - val_loss: 11223498752.0000 - val_mse: 11223498752.0000\n",
      "Epoch 30/32\n",
      "409/409 [==============================] - 2s 4ms/step - loss: 10583950336.0000 - mse: 10583950336.0000 - val_loss: 11158961152.0000 - val_mse: 11158961152.0000\n",
      "Epoch 31/32\n",
      "409/409 [==============================] - 2s 5ms/step - loss: 10522528768.0000 - mse: 10522528768.0000 - val_loss: 11088598016.0000 - val_mse: 11088598016.0000\n",
      "Epoch 32/32\n",
      "409/409 [==============================] - 1s 4ms/step - loss: 10458503168.0000 - mse: 10458503168.0000 - val_loss: 11016137728.0000 - val_mse: 11016137728.0000\n"
     ]
    }
   ],
   "source": [
    "# Model create\n",
    "\n",
    "feature_layer = tf.keras.layers.DenseFeatures(feature_columns, dtype='float64')\n",
    "\n",
    "model = tf.keras.Sequential([\n",
    "  feature_layer,\n",
    "  layers.Dense(12, input_dim=8, activation='relu'),\n",
    "  layers.Dense(8, activation='relu'),\n",
    "  layers.Dense(1, activation='linear',  name='median_house_value')\n",
    "])\n",
    "\n",
    "# Model compile\n",
    "# TODO 2d\n",
    "# TODO -- Your code here.\n",
    "model.compile(optimizer=Adam(learning_rate=.001), loss=\"mse\", metrics=[\"mse\"])\n",
    "\n",
    "# Model Fit\n",
    "history = model.fit(train_ds,\n",
    "                    validation_data=val_ds,\n",
    "                    epochs=32)  # Increase Epochs to 32"
   ]
  },
  {
   "cell_type": "markdown",
   "metadata": {},
   "source": [
    "**Lab Task #3:** Visualizing the loss curves"
   ]
  },
  {
   "cell_type": "code",
   "execution_count": 18,
   "metadata": {},
   "outputs": [
    {
     "data": {
      "image/png": "[encoded data removed]",
      "text/plain": [
       "<Figure size 720x360 with 2 Axes>"
      ]
     },
     "metadata": {
      "needs_background": "light"
     },
     "output_type": "display_data"
    }
   ],
   "source": [
    "# TODO 3\n",
    "# TODO -- Your code here.\n",
    "\n",
    "plot_curves(history, ['loss', 'mse'])"
   ]
  },
  {
   "cell_type": "markdown",
   "metadata": {},
   "source": [
    "Copyright 2020 Google Inc.\n",
    "Licensed under the Apache License, Version 2.0 (the \"License\"); you may not use this file except in compliance with the License. You may obtain a copy of the License at\n",
    "http://www.apache.org/licenses/LICENSE-2.0\n",
    "Unless required by applicable law or agreed to in writing, software distributed under the License is distributed on an \"AS IS\" BASIS, WITHOUT WARRANTIES OR CONDITIONS OF ANY KIND, either express or implied. See the License for the specific language governing permissions and limitations under the License."
   ]
  }
 ],
 "metadata": {
  "colab": {
   "collapsed_sections": [],
   "name": "learning_rate.ipynb",
   "provenance": [],
   "toc_visible": true
  },
  "environment": {
   "kernel": "python3",
   "name": "tf2-gpu.2-3.m84",
   "type": "gcloud",
   "uri": "gcr.io/deeplearning-platform-release/tf2-gpu.2-3:m84"
  },
  "kernelspec": {
   "display_name": "Python 3",
   "language": "python",
   "name": "python3"
  },
  "language_info": {
   "codemirror_mode": {
    "name": "ipython",
    "version": 3
   },
   "file_extension": ".py",
   "mimetype": "text/x-python",
   "name": "python",
   "nbconvert_exporter": "python",
   "pygments_lexer": "ipython3",
   "version": "3.7.12"
  }
 },
 "nbformat": 4,
 "nbformat_minor": 4
}
